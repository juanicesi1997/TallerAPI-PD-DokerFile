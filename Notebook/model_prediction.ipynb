{
 "cells": [
  {
   "cell_type": "code",
   "execution_count": 1,
   "id": "45031224",
   "metadata": {},
   "outputs": [],
   "source": [
    "import joblib as jl\n",
    "import pandas as pd\n",
    "from fastapi import FastAPI\n",
    "from pydantic import BaseModel"
   ]
  },
  {
   "cell_type": "code",
   "execution_count": 2,
   "id": "3945bc28",
   "metadata": {},
   "outputs": [],
   "source": [
    "class customerData(BaseModel):\n",
    "    tenure:float\n",
    "    usage_frecuency: float\n",
    "    support_calls: float\n",
    "    subscription_type: str\n",
    "    contract_length: str\n",
    "    total_spend: float\n",
    "    last_interaction: float"
   ]
  },
  {
   "cell_type": "code",
   "execution_count": 3,
   "id": "bb0c5662",
   "metadata": {},
   "outputs": [],
   "source": [
    "model_path = '../models/model.joblib'\n",
    "app = FastAPI()"
   ]
  },
  {
   "cell_type": "code",
   "execution_count": 4,
   "id": "fe818c75",
   "metadata": {},
   "outputs": [],
   "source": [
    "model = jl.load(model_path)"
   ]
  },
  {
   "cell_type": "code",
   "execution_count": 5,
   "id": "68be41c2",
   "metadata": {},
   "outputs": [],
   "source": [
    "@app.post(\"/predict/\")\n",
    "def model_prediction(payload: customerData):\n",
    "    df = pd.DataFrame.from_dict(payload.model_dump(), orient='index').T\n",
    "    df['subscription_type'] = df['subscription_type'].astype('category')\n",
    "    df['contract_length'] = df['contract_length'].astype('category')\n",
    "    df['tenure'] = df['tenure'].astype('float')\n",
    "    df['usage_frequency'] = df['usage_frequency'].astype('float')\n",
    "    df['support_calls'] = df['support_calls'].astype('float')\n",
    "    df['payment_delay'] = df['payment_delay'].astype('float')\n",
    "    df['total_spend'] = df['total_spend'].astype('float')\n",
    "    df['last_interaction'] = df['last_interaction'].astype('float')\n",
    "    return model.predict(df)[0]"
   ]
  },
  {
   "cell_type": "code",
   "execution_count": 6,
   "id": "f65bc85b",
   "metadata": {},
   "outputs": [],
   "source": [
    "@app.post(\"/\")\n",
    "def welcomwe():\n",
    "    print(\"Welcome\")"
   ]
  }
 ],
 "metadata": {
  "kernelspec": {
   "display_name": "venv",
   "language": "python",
   "name": "python3"
  },
  "language_info": {
   "codemirror_mode": {
    "name": "ipython",
    "version": 3
   },
   "file_extension": ".py",
   "mimetype": "text/x-python",
   "name": "python",
   "nbconvert_exporter": "python",
   "pygments_lexer": "ipython3",
   "version": "3.13.7"
  }
 },
 "nbformat": 4,
 "nbformat_minor": 5
}
